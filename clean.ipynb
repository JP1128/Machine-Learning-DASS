{
 "cells": [
  {
   "cell_type": "markdown",
   "source": [
    "# CSCI 3360: Course Project\n",
    "This file is used to clean up the data and create a new modified file to work with.\n",
    "\n",
    "**Project Members:** JP Park, Yiren Hou, Martha Sikora, Pragya Bhayana\n",
    "**Dataset:** [Predicting Depression, Anxiety, and Stress](https://www.kaggle.com/yamqwe/depression-anxiety-stress-scales) from [Kaggle](https://www.kaggle.com) by [Yam Peleg](https://www.kaggle.com/yamqwe)"
   ],
   "metadata": {
    "collapsed": false
   }
  },
  {
   "cell_type": "code",
   "execution_count": 141,
   "outputs": [],
   "source": [
    "import pandas as pd\n",
    "import numpy as np"
   ],
   "metadata": {
    "collapsed": false,
    "pycharm": {
     "name": "#%%\n"
    }
   }
  },
  {
   "cell_type": "code",
   "execution_count": 142,
   "metadata": {
    "collapsed": true
   },
   "outputs": [],
   "source": [
    "df = pd.read_table(\"data/data.csv\")"
   ]
  },
  {
   "cell_type": "markdown",
   "source": [
    "# Validity Check"
   ],
   "metadata": {
    "collapsed": false
   }
  },
  {
   "cell_type": "code",
   "execution_count": 143,
   "outputs": [],
   "source": [
    "# VCL\n",
    "df = df[df[['VCL6', 'VCL9', 'VCL12']].sum(axis=1) == 0]\n",
    "df = df[df[['VCL1', 'VCL4', 'VCL10', 'VCL16']].sum(axis=1) == 4]"
   ],
   "metadata": {
    "collapsed": false,
    "pycharm": {
     "name": "#%%\n"
    }
   }
  },
  {
   "cell_type": "code",
   "execution_count": 144,
   "outputs": [],
   "source": [
    "# testelapse\n",
    "testelapse = df['testelapse']\n",
    "min_qr = testelapse.quantile(0.01)\n",
    "max_qr = testelapse.quantile(0.99)\n",
    "df = df[testelapse.between(min_qr, max_qr)]"
   ],
   "metadata": {
    "collapsed": false,
    "pycharm": {
     "name": "#%%\n"
    }
   }
  },
  {
   "cell_type": "code",
   "execution_count": 145,
   "outputs": [],
   "source": [
    "# surveyelapse\n",
    "surveyelapse = df['surveyelapse']\n",
    "min_qr = surveyelapse.quantile(0.01)\n",
    "max_qr = surveyelapse.quantile(0.99)\n",
    "df = df[surveyelapse.between(min_qr, max_qr)]"
   ],
   "metadata": {
    "collapsed": false,
    "pycharm": {
     "name": "#%%\n"
    }
   }
  },
  {
   "cell_type": "markdown",
   "source": [
    "# Calculating BIG-FIVE Personality"
   ],
   "metadata": {
    "collapsed": false
   }
  },
  {
   "cell_type": "code",
   "execution_count": 146,
   "outputs": [],
   "source": [
    "# Extraversion\n",
    "df['EXT1'] = df['TIPI1']\n",
    "df['EXT2'] = 8 - df['TIPI6']\n",
    "\n",
    "# Agreeableness\n",
    "df['AGR1'] = 8 - df['TIPI2']\n",
    "df['AGR2'] = df['TIPI7']\n",
    "\n",
    "# Conscientiousness\n",
    "df['CON1'] = df['TIPI3']\n",
    "df['CON2'] = 8 - df['TIPI8']\n",
    "\n",
    "# Emotional Stability\n",
    "df['EST1'] = 8 - df['TIPI4']\n",
    "df['EST2'] = df['TIPI9']\n",
    "\n",
    "# Openness\n",
    "df['OPE1'] = df['TIPI5']\n",
    "df['OPE2'] = 8 - df['TIPI10']"
   ],
   "metadata": {
    "collapsed": false,
    "pycharm": {
     "name": "#%%\n"
    }
   }
  },
  {
   "cell_type": "markdown",
   "source": [
    "# Calculating DASS score and level"
   ],
   "metadata": {
    "collapsed": false
   }
  },
  {
   "cell_type": "code",
   "execution_count": 147,
   "outputs": [],
   "source": [
    "# Calculate and create columns for depression, anxiety, and stress scores\n",
    "# and levels using the official DASS scale\n",
    "for cat, cols, bins in \\\n",
    "        ('depression', '3|5|10|13|16|17|21|24|26|31|34|37|38|42', [0, 9, 13, 20, 27, np.inf]), \\\n",
    "        ('anxiety', '2|4|7|9|15|19|20|23|25|28|30|36|40|41', [0, 7, 9, 14, 19, np.inf]), \\\n",
    "        ('stress', '1|6|8|11|12|14|18|22|27|29|32|33|35|39', [0, 14, 18, 25, 33, np.inf]):\n",
    "    df[f'{cat}_score'] = df.filter(regex=f\"Q({cols})A\").sub(1, fill_value=0).sum(axis=1)\n",
    "    df[f'{cat}_level'] = pd.cut(df[f'{cat}_score'], right=False, bins=bins, labels=range(5))"
   ],
   "metadata": {
    "collapsed": false,
    "pycharm": {
     "name": "#%%\n"
    }
   }
  },
  {
   "cell_type": "markdown",
   "source": [
    "# Drop unnecessary columns"
   ],
   "metadata": {
    "collapsed": false
   }
  },
  {
   "cell_type": "code",
   "execution_count": 148,
   "outputs": [],
   "source": [
    "drop = lambda regex: df.drop(df.filter(regex=regex).columns, axis=1, inplace=True)\n",
    "\n",
    "# vocabulary check list to check validity\n",
    "drop('VCL\\\\d+')\n",
    "\n",
    "# Q#A - the answer given to the question\n",
    "# Q#E - time spent on answering question (in milliseconds)\n",
    "# Q#I - the question's position in the survey\n",
    "drop('Q\\\\d+(A|E|I)')\n",
    "\n",
    "# introelapse - time spent on the introduction/landing page (in seconds)\n",
    "# testelapse - time spent on all the DASS questions\n",
    "# surveylapse - time spent answering the rest of the demographic and survey questions\n",
    "drop('.+lapse')\n",
    "\n",
    "# TIPI - Ten Item Personality Inventory\n",
    "drop('TIPI\\\\d+')"
   ],
   "metadata": {
    "collapsed": false,
    "pycharm": {
     "name": "#%%\n"
    }
   }
  },
  {
   "cell_type": "markdown",
   "source": [
    "# Save to a file"
   ],
   "metadata": {
    "collapsed": false
   }
  },
  {
   "cell_type": "code",
   "execution_count": 149,
   "outputs": [],
   "source": [
    "df.to_csv(\"data/cleaned.csv\", index=False)"
   ],
   "metadata": {
    "collapsed": false,
    "pycharm": {
     "name": "#%%\n"
    }
   }
  }
 ],
 "metadata": {
  "kernelspec": {
   "display_name": "Python 3",
   "language": "python",
   "name": "python3"
  },
  "language_info": {
   "codemirror_mode": {
    "name": "ipython",
    "version": 2
   },
   "file_extension": ".py",
   "mimetype": "text/x-python",
   "name": "python",
   "nbconvert_exporter": "python",
   "pygments_lexer": "ipython2",
   "version": "2.7.6"
  }
 },
 "nbformat": 4,
 "nbformat_minor": 0
}