{
 "cells": [
  {
   "cell_type": "markdown",
   "source": [
    "# CSCI 3360: Course Project\n",
    "This file is used to clean up the data and create a new modified file to work with.\n",
    "\n",
    "**Project Members:** JP Park, Yiren Hou, Martha Sikora, Pragya Bhayana\n",
    "**Dataset:** [Predicting Depression, Anxiety, and Stress](https://www.kaggle.com/yamqwe/depression-anxiety-stress-scales) from [Kaggle](https://www.kaggle.com) by [Yam Peleg](https://www.kaggle.com/yamqwe)"
   ],
   "metadata": {
    "collapsed": false
   }
  },
  {
   "cell_type": "code",
   "execution_count": 41,
   "outputs": [],
   "source": [
    "import numpy as np\n",
    "import pandas as pd"
   ],
   "metadata": {
    "collapsed": false,
    "pycharm": {
     "name": "#%%\n"
    }
   }
  },
  {
   "cell_type": "code",
   "execution_count": 42,
   "metadata": {
    "collapsed": true
   },
   "outputs": [],
   "source": [
    "df = pd.read_table(\"data/data.csv\")"
   ]
  },
  {
   "cell_type": "markdown",
   "source": [
    "# Validity Check"
   ],
   "metadata": {
    "collapsed": false
   }
  },
  {
   "cell_type": "code",
   "execution_count": 43,
   "outputs": [],
   "source": [
    "# VCL\n",
    "df = df[df[['VCL6', 'VCL9', 'VCL12']].sum(axis=1) == 0]\n",
    "df = df[df[['VCL1', 'VCL4', 'VCL10', 'VCL15', 'VCL16']].sum(axis=1) > 2]"
   ],
   "metadata": {
    "collapsed": false,
    "pycharm": {
     "name": "#%%\n"
    }
   }
  },
  {
   "cell_type": "code",
   "execution_count": 44,
   "outputs": [],
   "source": [
    "# testelapse + surveyelapse\n",
    "elapse = df['testelapse'] + df['surveyelapse']\n",
    "min_qr = elapse.quantile(0.01)\n",
    "max_qr = elapse.quantile(0.99)\n",
    "df = df[elapse.between(min_qr, max_qr)]"
   ],
   "metadata": {
    "collapsed": false,
    "pycharm": {
     "name": "#%%\n"
    }
   }
  },
  {
   "cell_type": "code",
   "execution_count": 45,
   "outputs": [],
   "source": [
    "# age\n",
    "df = df[df['age'].between(13, 90)]\n",
    "\n",
    "# family size\n",
    "df = df[df['familysize'] < 15]\n",
    "\n",
    "# eliminate minors that voted or are/have been married\n",
    "minor = df['age'] < 18\n",
    "voted = df['voted'] == 1\n",
    "married = df['married'] > 1\n",
    "df = df[~(minor & (voted | married))]"
   ],
   "metadata": {
    "collapsed": false,
    "pycharm": {
     "name": "#%%\n"
    }
   }
  },
  {
   "cell_type": "markdown",
   "source": [
    "# Drop 0s"
   ],
   "metadata": {
    "collapsed": false
   }
  },
  {
   "cell_type": "code",
   "execution_count": 46,
   "outputs": [],
   "source": [
    "cols = ['country', 'education', 'urban', 'gender', 'engnat', 'age', 'hand', 'religion', 'race', 'voted', 'married',\n",
    "        'familysize']\n",
    "df = df[~(df[cols] == 0).any(axis=1)]"
   ],
   "metadata": {
    "collapsed": false,
    "pycharm": {
     "name": "#%%\n"
    }
   }
  },
  {
   "cell_type": "markdown",
   "source": [
    "# Fix major column"
   ],
   "metadata": {
    "collapsed": false
   }
  },
  {
   "cell_type": "code",
   "execution_count": 47,
   "outputs": [],
   "source": [
    "df['major'] = df['major'].str.lower()\n",
    "df['major'] = df['major'].str.strip()\n",
    "df.loc[df['education'] < 3, 'major'] = np.NAN"
   ],
   "metadata": {
    "collapsed": false,
    "pycharm": {
     "name": "#%%\n"
    }
   }
  },
  {
   "cell_type": "markdown",
   "source": [
    "# Calculating BIG-FIVE Personality"
   ],
   "metadata": {
    "collapsed": false
   }
  },
  {
   "cell_type": "code",
   "execution_count": 48,
   "outputs": [],
   "source": [
    "# Extraversion\n",
    "df['EXT1'] = df['TIPI1']\n",
    "df['EXT2'] = 8 - df['TIPI6']\n",
    "df['EXT'] = df['EXT1'] + df['EXT2']\n",
    "\n",
    "# Agreeableness\n",
    "df['AGR1'] = 8 - df['TIPI2']\n",
    "df['AGR2'] = df['TIPI7']\n",
    "df['AGR'] = df['AGR1'] + df['AGR2']\n",
    "\n",
    "# Conscientiousness\n",
    "df['CON1'] = df['TIPI3']\n",
    "df['CON2'] = 8 - df['TIPI8']\n",
    "df['CON'] = df['CON1'] + df['CON2']\n",
    "\n",
    "# Emotional Stability\n",
    "df['EST1'] = 8 - df['TIPI4']\n",
    "df['EST2'] = df['TIPI9']\n",
    "df['EST'] = df['EST1'] + df['EST2']\n",
    "\n",
    "# Openness\n",
    "df['OPE1'] = df['TIPI5']\n",
    "df['OPE2'] = 8 - df['TIPI10']\n",
    "df['OPE'] = df['OPE1'] + df['OPE2']"
   ],
   "metadata": {
    "collapsed": false,
    "pycharm": {
     "name": "#%%\n"
    }
   }
  },
  {
   "cell_type": "markdown",
   "source": [
    "# Calculating DASS score and level"
   ],
   "metadata": {
    "collapsed": false
   }
  },
  {
   "cell_type": "code",
   "execution_count": 49,
   "outputs": [],
   "source": [
    "# Calculate and create columns for depression, anxiety, and stress scores\n",
    "# and levels using the official DASS scale\n",
    "DASS = (\n",
    "    ('depression', '3|5|10|13|16|17|21|24|26|31|34|37|38|42', [0, 9, 13, 20, 27, np.inf]),\n",
    "    ('anxiety', '2|4|7|9|15|19|20|23|25|28|30|36|40|41', [0, 7, 9, 14, 19, np.inf]),\n",
    "    ('stress', '1|6|8|11|12|14|18|22|27|29|32|33|35|39', [0, 14, 18, 25, 33, np.inf])\n",
    ")\n",
    "\n",
    "for cat, cols, bins in DASS:\n",
    "    df[f'{cat}_score'] = df.filter(regex=f\"Q({cols})A\").sub(1, fill_value=0).sum(axis=1)\n",
    "    df[f'{cat}_level'] = pd.cut(df[f'{cat}_score'], right=False, bins=bins, labels=range(5))"
   ],
   "metadata": {
    "collapsed": false,
    "pycharm": {
     "name": "#%%\n"
    }
   }
  },
  {
   "cell_type": "markdown",
   "source": [
    "# Drop unnecessary columns"
   ],
   "metadata": {
    "collapsed": false
   }
  },
  {
   "cell_type": "code",
   "execution_count": 50,
   "outputs": [],
   "source": [
    "drop = lambda regex: df.drop(df.filter(regex=regex).columns, axis=1, inplace=True)\n",
    "\n",
    "# vocabulary check list to check validity\n",
    "drop('VCL\\\\d+')\n",
    "\n",
    "# Q#A - the answer given to the question\n",
    "# Q#E - time spent on answering question (in milliseconds)\n",
    "# Q#I - the question's position in the survey\n",
    "drop('Q\\\\d+(A|E|I)')\n",
    "\n",
    "# introelapse - time spent on the introduction/landing page (in seconds)\n",
    "# testelapse - time spent on all the DASS questions\n",
    "# surveylapse - time spent answering the rest of the demographic and survey questions\n",
    "drop('.+lapse')\n",
    "\n",
    "# TIPI - Ten Item Personality Inventory\n",
    "drop('TIPI\\\\d+')\n",
    "\n",
    "# screensize\n",
    "# uniquenetworklocation\n",
    "df.drop(columns=['screensize', 'uniquenetworklocation', 'source'], inplace=True)"
   ],
   "metadata": {
    "collapsed": false,
    "pycharm": {
     "name": "#%%\n"
    }
   }
  },
  {
   "cell_type": "markdown",
   "source": [
    "# Changing numerical categorical data to string"
   ],
   "metadata": {
    "collapsed": false
   }
  },
  {
   "cell_type": "code",
   "execution_count": 51,
   "outputs": [],
   "source": [
    "df.replace({\n",
    "    'education': {\n",
    "        0: np.NAN,\n",
    "        1: 'less than high school',\n",
    "        2: 'high school',\n",
    "        3: 'university degree',\n",
    "        4: 'graduate degree',\n",
    "    },\n",
    "    'urban': {\n",
    "        0: np.NAN,\n",
    "        1: 'rural',\n",
    "        2: 'suburban',\n",
    "        3: 'urban',\n",
    "    },\n",
    "    'gender': {\n",
    "        0: np.NAN,\n",
    "        1: 'male',\n",
    "        2: 'female',\n",
    "        3: 'other'\n",
    "    },\n",
    "    'engnat': {\n",
    "        0: np.NAN,\n",
    "        1: 'yes',\n",
    "        2: 'no',\n",
    "    },\n",
    "    'hand': {\n",
    "        0: np.NAN,\n",
    "        1: 'right',\n",
    "        2: 'left',\n",
    "        3: 'both',\n",
    "    },\n",
    "    'religion': {\n",
    "        0: np.NAN,\n",
    "        1: 'agnostic',\n",
    "        2: 'atheist',\n",
    "        3: 'buddhist',\n",
    "        4: 'christian (catholic)',\n",
    "        5: 'christian (mormon)',\n",
    "        6: 'christian (protestant)',\n",
    "        7: 'christian (other)',\n",
    "        8: 'hindu',\n",
    "        9: 'jewish',\n",
    "        10: 'muslim',\n",
    "        11: 'sikh',\n",
    "        12: 'other',\n",
    "    },\n",
    "    'orientation': {\n",
    "        0: np.NAN,\n",
    "        1: 'heterosexual',\n",
    "        2: 'bisexual',\n",
    "        3: 'homosexual',\n",
    "        4: 'asexual',\n",
    "        5: 'other',\n",
    "    },\n",
    "    'race': {\n",
    "        0: np.NAN,\n",
    "        10: 'asian',\n",
    "        20: 'arab',\n",
    "        30: 'black',\n",
    "        40: 'indigenous australian',\n",
    "        50: 'native american',\n",
    "        60: 'white',\n",
    "        70: 'other',\n",
    "    },\n",
    "    'voted': {\n",
    "        0: np.NAN,\n",
    "        1: 'yes',\n",
    "        2: 'no',\n",
    "    },\n",
    "    'married': {\n",
    "        0: np.NAN,\n",
    "        1: 'never married',\n",
    "        2: 'currently married',\n",
    "        3: 'previously married',\n",
    "    },\n",
    "}, inplace=True)"
   ],
   "metadata": {
    "collapsed": false,
    "pycharm": {
     "name": "#%%\n"
    }
   }
  },
  {
   "cell_type": "markdown",
   "source": [
    "# Save to a file"
   ],
   "metadata": {
    "collapsed": false
   }
  },
  {
   "cell_type": "code",
   "execution_count": 52,
   "outputs": [],
   "source": [
    "df.to_csv(\"data/cleaned.csv\", index=False)"
   ],
   "metadata": {
    "collapsed": false,
    "pycharm": {
     "name": "#%%\n"
    }
   }
  },
  {
   "cell_type": "code",
   "execution_count": 53,
   "outputs": [
    {
     "data": {
      "text/plain": "      country              education     urban  gender engnat  age   hand  \\\n0          IN            high school     urban  female     no   16  right   \n1          US            high school     urban  female    yes   16   left   \n3          US  less than high school     urban  female    yes   13   left   \n4          MY      university degree  suburban  female     no   19   both   \n5          US            high school     urban  female     no   20  right   \n...       ...                    ...       ...     ...    ...  ...    ...   \n39769      US  less than high school  suburban  female    yes   16  right   \n39770      GB            high school  suburban    male    yes   16  right   \n39772      US      university degree  suburban  female    yes   48  right   \n39773      US      university degree  suburban  female    yes   20  right   \n39774      MY      university degree     urban  female     no   26  right   \n\n                     religion   orientation   race  ... EST OPE1  OPE2 OPE  \\\n0                       other  heterosexual  asian  ...   2    7     7  14   \n1           christian (other)           NaN  other  ...   2    5     3   8   \n3        christian (catholic)         other  other  ...  10    6     7  13   \n4                      muslim  heterosexual  asian  ...   5    5     5  10   \n5        christian (catholic)  heterosexual  other  ...  13    7     1   8   \n...                       ...           ...    ...  ...  ..  ...   ...  ..   \n39769                agnostic  heterosexual  other  ...   8    6     1   7   \n39770                 atheist       asexual  white  ...   6    6     2   8   \n39772       christian (other)  heterosexual  black  ...   8    6     4  10   \n39773  christian (protestant)  heterosexual  white  ...   4    3     4   7   \n39774                  muslim  heterosexual  asian  ...   4    6     6  12   \n\n       depression_score  depression_level  anxiety_score  anxiety_level  \\\n0                    27                 4             34              4   \n1                    24                 3             17              3   \n3                    16                 2             17              3   \n4                    32                 4             40              4   \n5                    13                 2              6              0   \n...                 ...               ...            ...            ...   \n39769                15                 2             21              4   \n39770                36                 4             12              2   \n39772                 4                 0              1              0   \n39773                16                 2             13              2   \n39774                27                 4             10              2   \n\n       stress_score  stress_level  \n0                40             4  \n1                27             3  \n3                16             1  \n4                29             3  \n5                12             0  \n...             ...           ...  \n39769            30             3  \n39770            15             1  \n39772             5             0  \n39773            33             4  \n39774            16             1  \n\n[27434 rows x 35 columns]",
      "text/html": "<div>\n<style scoped>\n    .dataframe tbody tr th:only-of-type {\n        vertical-align: middle;\n    }\n\n    .dataframe tbody tr th {\n        vertical-align: top;\n    }\n\n    .dataframe thead th {\n        text-align: right;\n    }\n</style>\n<table border=\"1\" class=\"dataframe\">\n  <thead>\n    <tr style=\"text-align: right;\">\n      <th></th>\n      <th>country</th>\n      <th>education</th>\n      <th>urban</th>\n      <th>gender</th>\n      <th>engnat</th>\n      <th>age</th>\n      <th>hand</th>\n      <th>religion</th>\n      <th>orientation</th>\n      <th>race</th>\n      <th>...</th>\n      <th>EST</th>\n      <th>OPE1</th>\n      <th>OPE2</th>\n      <th>OPE</th>\n      <th>depression_score</th>\n      <th>depression_level</th>\n      <th>anxiety_score</th>\n      <th>anxiety_level</th>\n      <th>stress_score</th>\n      <th>stress_level</th>\n    </tr>\n  </thead>\n  <tbody>\n    <tr>\n      <th>0</th>\n      <td>IN</td>\n      <td>high school</td>\n      <td>urban</td>\n      <td>female</td>\n      <td>no</td>\n      <td>16</td>\n      <td>right</td>\n      <td>other</td>\n      <td>heterosexual</td>\n      <td>asian</td>\n      <td>...</td>\n      <td>2</td>\n      <td>7</td>\n      <td>7</td>\n      <td>14</td>\n      <td>27</td>\n      <td>4</td>\n      <td>34</td>\n      <td>4</td>\n      <td>40</td>\n      <td>4</td>\n    </tr>\n    <tr>\n      <th>1</th>\n      <td>US</td>\n      <td>high school</td>\n      <td>urban</td>\n      <td>female</td>\n      <td>yes</td>\n      <td>16</td>\n      <td>left</td>\n      <td>christian (other)</td>\n      <td>NaN</td>\n      <td>other</td>\n      <td>...</td>\n      <td>2</td>\n      <td>5</td>\n      <td>3</td>\n      <td>8</td>\n      <td>24</td>\n      <td>3</td>\n      <td>17</td>\n      <td>3</td>\n      <td>27</td>\n      <td>3</td>\n    </tr>\n    <tr>\n      <th>3</th>\n      <td>US</td>\n      <td>less than high school</td>\n      <td>urban</td>\n      <td>female</td>\n      <td>yes</td>\n      <td>13</td>\n      <td>left</td>\n      <td>christian (catholic)</td>\n      <td>other</td>\n      <td>other</td>\n      <td>...</td>\n      <td>10</td>\n      <td>6</td>\n      <td>7</td>\n      <td>13</td>\n      <td>16</td>\n      <td>2</td>\n      <td>17</td>\n      <td>3</td>\n      <td>16</td>\n      <td>1</td>\n    </tr>\n    <tr>\n      <th>4</th>\n      <td>MY</td>\n      <td>university degree</td>\n      <td>suburban</td>\n      <td>female</td>\n      <td>no</td>\n      <td>19</td>\n      <td>both</td>\n      <td>muslim</td>\n      <td>heterosexual</td>\n      <td>asian</td>\n      <td>...</td>\n      <td>5</td>\n      <td>5</td>\n      <td>5</td>\n      <td>10</td>\n      <td>32</td>\n      <td>4</td>\n      <td>40</td>\n      <td>4</td>\n      <td>29</td>\n      <td>3</td>\n    </tr>\n    <tr>\n      <th>5</th>\n      <td>US</td>\n      <td>high school</td>\n      <td>urban</td>\n      <td>female</td>\n      <td>no</td>\n      <td>20</td>\n      <td>right</td>\n      <td>christian (catholic)</td>\n      <td>heterosexual</td>\n      <td>other</td>\n      <td>...</td>\n      <td>13</td>\n      <td>7</td>\n      <td>1</td>\n      <td>8</td>\n      <td>13</td>\n      <td>2</td>\n      <td>6</td>\n      <td>0</td>\n      <td>12</td>\n      <td>0</td>\n    </tr>\n    <tr>\n      <th>...</th>\n      <td>...</td>\n      <td>...</td>\n      <td>...</td>\n      <td>...</td>\n      <td>...</td>\n      <td>...</td>\n      <td>...</td>\n      <td>...</td>\n      <td>...</td>\n      <td>...</td>\n      <td>...</td>\n      <td>...</td>\n      <td>...</td>\n      <td>...</td>\n      <td>...</td>\n      <td>...</td>\n      <td>...</td>\n      <td>...</td>\n      <td>...</td>\n      <td>...</td>\n      <td>...</td>\n    </tr>\n    <tr>\n      <th>39769</th>\n      <td>US</td>\n      <td>less than high school</td>\n      <td>suburban</td>\n      <td>female</td>\n      <td>yes</td>\n      <td>16</td>\n      <td>right</td>\n      <td>agnostic</td>\n      <td>heterosexual</td>\n      <td>other</td>\n      <td>...</td>\n      <td>8</td>\n      <td>6</td>\n      <td>1</td>\n      <td>7</td>\n      <td>15</td>\n      <td>2</td>\n      <td>21</td>\n      <td>4</td>\n      <td>30</td>\n      <td>3</td>\n    </tr>\n    <tr>\n      <th>39770</th>\n      <td>GB</td>\n      <td>high school</td>\n      <td>suburban</td>\n      <td>male</td>\n      <td>yes</td>\n      <td>16</td>\n      <td>right</td>\n      <td>atheist</td>\n      <td>asexual</td>\n      <td>white</td>\n      <td>...</td>\n      <td>6</td>\n      <td>6</td>\n      <td>2</td>\n      <td>8</td>\n      <td>36</td>\n      <td>4</td>\n      <td>12</td>\n      <td>2</td>\n      <td>15</td>\n      <td>1</td>\n    </tr>\n    <tr>\n      <th>39772</th>\n      <td>US</td>\n      <td>university degree</td>\n      <td>suburban</td>\n      <td>female</td>\n      <td>yes</td>\n      <td>48</td>\n      <td>right</td>\n      <td>christian (other)</td>\n      <td>heterosexual</td>\n      <td>black</td>\n      <td>...</td>\n      <td>8</td>\n      <td>6</td>\n      <td>4</td>\n      <td>10</td>\n      <td>4</td>\n      <td>0</td>\n      <td>1</td>\n      <td>0</td>\n      <td>5</td>\n      <td>0</td>\n    </tr>\n    <tr>\n      <th>39773</th>\n      <td>US</td>\n      <td>university degree</td>\n      <td>suburban</td>\n      <td>female</td>\n      <td>yes</td>\n      <td>20</td>\n      <td>right</td>\n      <td>christian (protestant)</td>\n      <td>heterosexual</td>\n      <td>white</td>\n      <td>...</td>\n      <td>4</td>\n      <td>3</td>\n      <td>4</td>\n      <td>7</td>\n      <td>16</td>\n      <td>2</td>\n      <td>13</td>\n      <td>2</td>\n      <td>33</td>\n      <td>4</td>\n    </tr>\n    <tr>\n      <th>39774</th>\n      <td>MY</td>\n      <td>university degree</td>\n      <td>urban</td>\n      <td>female</td>\n      <td>no</td>\n      <td>26</td>\n      <td>right</td>\n      <td>muslim</td>\n      <td>heterosexual</td>\n      <td>asian</td>\n      <td>...</td>\n      <td>4</td>\n      <td>6</td>\n      <td>6</td>\n      <td>12</td>\n      <td>27</td>\n      <td>4</td>\n      <td>10</td>\n      <td>2</td>\n      <td>16</td>\n      <td>1</td>\n    </tr>\n  </tbody>\n</table>\n<p>27434 rows × 35 columns</p>\n</div>"
     },
     "execution_count": 53,
     "metadata": {},
     "output_type": "execute_result"
    }
   ],
   "source": [
    "df"
   ],
   "metadata": {
    "collapsed": false,
    "pycharm": {
     "name": "#%%\n"
    }
   }
  }
 ],
 "metadata": {
  "kernelspec": {
   "display_name": "Python 3",
   "language": "python",
   "name": "python3"
  },
  "language_info": {
   "codemirror_mode": {
    "name": "ipython",
    "version": 2
   },
   "file_extension": ".py",
   "mimetype": "text/x-python",
   "name": "python",
   "nbconvert_exporter": "python",
   "pygments_lexer": "ipython2",
   "version": "2.7.6"
  }
 },
 "nbformat": 4,
 "nbformat_minor": 0
}