{
 "cells": [
  {
   "cell_type": "markdown",
   "source": [
    "# CSCI 3360: Course Project\n",
    "This file is used to clean up the data and create a new modified file to work with.\n",
    "\n",
    "**Project Members:** JP Park, Yiren Hou, Martha Sikora, Pragya Bhayana\n",
    "**Dataset:** [Predicting Depression, Anxiety, and Stress](https://www.kaggle.com/yamqwe/depression-anxiety-stress-scales) from [Kaggle](https://www.kaggle.com) by [Yam Peleg](https://www.kaggle.com/yamqwe)"
   ],
   "metadata": {
    "collapsed": false
   }
  },
  {
   "cell_type": "code",
   "execution_count": 1,
   "outputs": [],
   "source": [
    "from thefuzz import process, fuzz\n",
    "\n",
    "import pandas as pd\n",
    "import numpy as np"
   ],
   "metadata": {
    "collapsed": false,
    "pycharm": {
     "name": "#%%\n"
    }
   }
  },
  {
   "cell_type": "code",
   "execution_count": 2,
   "metadata": {
    "collapsed": true
   },
   "outputs": [],
   "source": [
    "df = pd.read_table(\"data/data.csv\")"
   ]
  },
  {
   "cell_type": "markdown",
   "source": [
    "# Validity Check"
   ],
   "metadata": {
    "collapsed": false
   }
  },
  {
   "cell_type": "code",
   "execution_count": 3,
   "outputs": [],
   "source": [
    "# VCL\n",
    "df = df[df[['VCL6', 'VCL9', 'VCL12']].sum(axis=1) == 0]\n",
    "df = df[df[['VCL1', 'VCL4', 'VCL10', 'VCL15', 'VCL16']].sum(axis=1) > 2]"
   ],
   "metadata": {
    "collapsed": false,
    "pycharm": {
     "name": "#%%\n"
    }
   }
  },
  {
   "cell_type": "code",
   "execution_count": 4,
   "outputs": [],
   "source": [
    "# testelapse + surveyelapse\n",
    "elapse = df['testelapse'] + df['surveyelapse']\n",
    "min_qr = elapse.quantile(0.01)\n",
    "max_qr = elapse.quantile(0.99)\n",
    "df = df[elapse.between(min_qr, max_qr)]"
   ],
   "metadata": {
    "collapsed": false,
    "pycharm": {
     "name": "#%%\n"
    }
   }
  },
  {
   "cell_type": "code",
   "execution_count": 5,
   "outputs": [],
   "source": [
    "# age\n",
    "df = df[df['age'].between(13, 90)]\n",
    "\n",
    "# family size\n",
    "df = df[df['familysize'] < 15]\n",
    "\n",
    "# eliminate minors that voted or are/have been married\n",
    "minor = df['age'] < 18\n",
    "voted = df['voted'] == 1\n",
    "married = df['married'] > 1\n",
    "df = df[~(minor & (voted | married))]"
   ],
   "metadata": {
    "collapsed": false,
    "pycharm": {
     "name": "#%%\n"
    }
   }
  },
  {
   "cell_type": "markdown",
   "source": [
    "# Drop 0s"
   ],
   "metadata": {
    "collapsed": false
   }
  },
  {
   "cell_type": "code",
   "execution_count": 6,
   "outputs": [],
   "source": [
    "cols = ['country', 'education', 'urban', 'gender', 'engnat', 'age', 'hand', 'religion', 'race', 'voted', 'married',\n",
    "        'familysize']\n",
    "df = df[~(df[cols] == 0).any(axis=1)]"
   ],
   "metadata": {
    "collapsed": false,
    "pycharm": {
     "name": "#%%\n"
    }
   }
  },
  {
   "cell_type": "markdown",
   "source": [
    "# Fix major column"
   ],
   "metadata": {
    "collapsed": false
   }
  },
  {
   "cell_type": "code",
   "execution_count": 7,
   "outputs": [],
   "source": [
    "df['major'] = df['major'].str.lower()\n",
    "df['major'] = df['major'].str.strip()\n",
    "df.loc[df['education'] < 3, 'major'] = np.NAN"
   ],
   "metadata": {
    "collapsed": false,
    "pycharm": {
     "name": "#%%\n"
    }
   }
  },
  {
   "cell_type": "markdown",
   "source": [
    "# Calculating BIG-FIVE Personality"
   ],
   "metadata": {
    "collapsed": false
   }
  },
  {
   "cell_type": "code",
   "execution_count": 8,
   "outputs": [],
   "source": [
    "# Extraversion\n",
    "df['EXT1'] = df['TIPI1']\n",
    "df['EXT2'] = 8 - df['TIPI6']\n",
    "\n",
    "# Agreeableness\n",
    "df['AGR1'] = 8 - df['TIPI2']\n",
    "df['AGR2'] = df['TIPI7']\n",
    "\n",
    "# Conscientiousness\n",
    "df['CON1'] = df['TIPI3']\n",
    "df['CON2'] = 8 - df['TIPI8']\n",
    "\n",
    "# Emotional Stability\n",
    "df['EST1'] = 8 - df['TIPI4']\n",
    "df['EST2'] = df['TIPI9']\n",
    "\n",
    "# Openness\n",
    "df['OPE1'] = df['TIPI5']\n",
    "df['OPE2'] = 8 - df['TIPI10']"
   ],
   "metadata": {
    "collapsed": false,
    "pycharm": {
     "name": "#%%\n"
    }
   }
  },
  {
   "cell_type": "markdown",
   "source": [
    "# Calculating DASS score and level"
   ],
   "metadata": {
    "collapsed": false
   }
  },
  {
   "cell_type": "code",
   "execution_count": 9,
   "outputs": [],
   "source": [
    "# Calculate and create columns for depression, anxiety, and stress scores\n",
    "# and levels using the official DASS scale\n",
    "DASS = (\n",
    "    ('depression', '3|5|10|13|16|17|21|24|26|31|34|37|38|42', [0, 9, 13, 20, 27, np.inf]),\n",
    "    ('anxiety', '2|4|7|9|15|19|20|23|25|28|30|36|40|41', [0, 7, 9, 14, 19, np.inf]),\n",
    "    ('stress', '1|6|8|11|12|14|18|22|27|29|32|33|35|39', [0, 14, 18, 25, 33, np.inf])\n",
    ")\n",
    "\n",
    "for cat, cols, bins in DASS:\n",
    "    df[f'{cat}_score'] = df.filter(regex=f\"Q({cols})A\").sub(1, fill_value=0).sum(axis=1)\n",
    "    df[f'{cat}_level'] = pd.cut(df[f'{cat}_score'], right=False, bins=bins, labels=range(5))"
   ],
   "metadata": {
    "collapsed": false,
    "pycharm": {
     "name": "#%%\n"
    }
   }
  },
  {
   "cell_type": "markdown",
   "source": [
    "# Drop unnecessary columns"
   ],
   "metadata": {
    "collapsed": false
   }
  },
  {
   "cell_type": "code",
   "execution_count": 10,
   "outputs": [],
   "source": [
    "drop = lambda regex: df.drop(df.filter(regex=regex).columns, axis=1, inplace=True)\n",
    "\n",
    "# vocabulary check list to check validity\n",
    "drop('VCL\\\\d+')\n",
    "\n",
    "# Q#A - the answer given to the question\n",
    "# Q#E - time spent on answering question (in milliseconds)\n",
    "# Q#I - the question's position in the survey\n",
    "drop('Q\\\\d+(A|E|I)')\n",
    "\n",
    "# introelapse - time spent on the introduction/landing page (in seconds)\n",
    "# testelapse - time spent on all the DASS questions\n",
    "# surveylapse - time spent answering the rest of the demographic and survey questions\n",
    "drop('.+lapse')\n",
    "\n",
    "# TIPI - Ten Item Personality Inventory\n",
    "drop('TIPI\\\\d+')\n",
    "\n",
    "# screensize\n",
    "# uniquenetworklocation\n",
    "df.drop(columns=['screensize', 'uniquenetworklocation', 'source'], inplace=True)"
   ],
   "metadata": {
    "collapsed": false,
    "pycharm": {
     "name": "#%%\n"
    }
   }
  },
  {
   "cell_type": "markdown",
   "source": [
    "# Save to a file"
   ],
   "metadata": {
    "collapsed": false
   }
  },
  {
   "cell_type": "code",
   "execution_count": 11,
   "outputs": [],
   "source": [
    "df.to_csv(\"data/cleaned.csv\", index=False)"
   ],
   "metadata": {
    "collapsed": false,
    "pycharm": {
     "name": "#%%\n"
    }
   }
  },
  {
   "cell_type": "code",
   "execution_count": 12,
   "outputs": [
    {
     "data": {
      "text/plain": "      country  education  urban  gender  engnat  age  hand  religion  \\\n0          IN          2      3       2       2   16     1        12   \n1          US          2      3       2       1   16     2         7   \n3          US          1      3       2       1   13     2         4   \n4          MY          3      2       2       2   19     3        10   \n5          US          2      3       2       2   20     1         4   \n...       ...        ...    ...     ...     ...  ...   ...       ...   \n39769      US          1      2       2       1   16     1         1   \n39770      GB          2      2       1       1   16     1         2   \n39772      US          3      2       2       1   48     1         7   \n39773      US          3      2       2       1   20     1         6   \n39774      MY          3      3       2       2   26     1        10   \n\n       orientation  race  ...  EST1  EST2  OPE1 OPE2  depression_score  \\\n0                1    10  ...     1     1     7    7                27   \n1                0    70  ...     1     1     5    3                24   \n3                5    70  ...     4     6     6    7                16   \n4                1    10  ...     2     3     5    5                32   \n5                1    70  ...     7     6     7    1                13   \n...            ...   ...  ...   ...   ...   ...  ...               ...   \n39769            1    70  ...     3     5     6    1                15   \n39770            4    60  ...     3     3     6    2                36   \n39772            1    30  ...     3     5     6    4                 4   \n39773            1    60  ...     1     3     3    4                16   \n39774            1    10  ...     3     1     6    6                27   \n\n       depression_level  anxiety_score  anxiety_level  stress_score  \\\n0                     4             34              4            40   \n1                     3             17              3            27   \n3                     2             17              3            16   \n4                     4             40              4            29   \n5                     2              6              0            12   \n...                 ...            ...            ...           ...   \n39769                 2             21              4            30   \n39770                 4             12              2            15   \n39772                 0              1              0             5   \n39773                 2             13              2            33   \n39774                 4             10              2            16   \n\n       stress_level  \n0                 4  \n1                 3  \n3                 1  \n4                 3  \n5                 0  \n...             ...  \n39769             3  \n39770             1  \n39772             0  \n39773             4  \n39774             1  \n\n[27434 rows x 30 columns]",
      "text/html": "<div>\n<style scoped>\n    .dataframe tbody tr th:only-of-type {\n        vertical-align: middle;\n    }\n\n    .dataframe tbody tr th {\n        vertical-align: top;\n    }\n\n    .dataframe thead th {\n        text-align: right;\n    }\n</style>\n<table border=\"1\" class=\"dataframe\">\n  <thead>\n    <tr style=\"text-align: right;\">\n      <th></th>\n      <th>country</th>\n      <th>education</th>\n      <th>urban</th>\n      <th>gender</th>\n      <th>engnat</th>\n      <th>age</th>\n      <th>hand</th>\n      <th>religion</th>\n      <th>orientation</th>\n      <th>race</th>\n      <th>...</th>\n      <th>EST1</th>\n      <th>EST2</th>\n      <th>OPE1</th>\n      <th>OPE2</th>\n      <th>depression_score</th>\n      <th>depression_level</th>\n      <th>anxiety_score</th>\n      <th>anxiety_level</th>\n      <th>stress_score</th>\n      <th>stress_level</th>\n    </tr>\n  </thead>\n  <tbody>\n    <tr>\n      <th>0</th>\n      <td>IN</td>\n      <td>2</td>\n      <td>3</td>\n      <td>2</td>\n      <td>2</td>\n      <td>16</td>\n      <td>1</td>\n      <td>12</td>\n      <td>1</td>\n      <td>10</td>\n      <td>...</td>\n      <td>1</td>\n      <td>1</td>\n      <td>7</td>\n      <td>7</td>\n      <td>27</td>\n      <td>4</td>\n      <td>34</td>\n      <td>4</td>\n      <td>40</td>\n      <td>4</td>\n    </tr>\n    <tr>\n      <th>1</th>\n      <td>US</td>\n      <td>2</td>\n      <td>3</td>\n      <td>2</td>\n      <td>1</td>\n      <td>16</td>\n      <td>2</td>\n      <td>7</td>\n      <td>0</td>\n      <td>70</td>\n      <td>...</td>\n      <td>1</td>\n      <td>1</td>\n      <td>5</td>\n      <td>3</td>\n      <td>24</td>\n      <td>3</td>\n      <td>17</td>\n      <td>3</td>\n      <td>27</td>\n      <td>3</td>\n    </tr>\n    <tr>\n      <th>3</th>\n      <td>US</td>\n      <td>1</td>\n      <td>3</td>\n      <td>2</td>\n      <td>1</td>\n      <td>13</td>\n      <td>2</td>\n      <td>4</td>\n      <td>5</td>\n      <td>70</td>\n      <td>...</td>\n      <td>4</td>\n      <td>6</td>\n      <td>6</td>\n      <td>7</td>\n      <td>16</td>\n      <td>2</td>\n      <td>17</td>\n      <td>3</td>\n      <td>16</td>\n      <td>1</td>\n    </tr>\n    <tr>\n      <th>4</th>\n      <td>MY</td>\n      <td>3</td>\n      <td>2</td>\n      <td>2</td>\n      <td>2</td>\n      <td>19</td>\n      <td>3</td>\n      <td>10</td>\n      <td>1</td>\n      <td>10</td>\n      <td>...</td>\n      <td>2</td>\n      <td>3</td>\n      <td>5</td>\n      <td>5</td>\n      <td>32</td>\n      <td>4</td>\n      <td>40</td>\n      <td>4</td>\n      <td>29</td>\n      <td>3</td>\n    </tr>\n    <tr>\n      <th>5</th>\n      <td>US</td>\n      <td>2</td>\n      <td>3</td>\n      <td>2</td>\n      <td>2</td>\n      <td>20</td>\n      <td>1</td>\n      <td>4</td>\n      <td>1</td>\n      <td>70</td>\n      <td>...</td>\n      <td>7</td>\n      <td>6</td>\n      <td>7</td>\n      <td>1</td>\n      <td>13</td>\n      <td>2</td>\n      <td>6</td>\n      <td>0</td>\n      <td>12</td>\n      <td>0</td>\n    </tr>\n    <tr>\n      <th>...</th>\n      <td>...</td>\n      <td>...</td>\n      <td>...</td>\n      <td>...</td>\n      <td>...</td>\n      <td>...</td>\n      <td>...</td>\n      <td>...</td>\n      <td>...</td>\n      <td>...</td>\n      <td>...</td>\n      <td>...</td>\n      <td>...</td>\n      <td>...</td>\n      <td>...</td>\n      <td>...</td>\n      <td>...</td>\n      <td>...</td>\n      <td>...</td>\n      <td>...</td>\n      <td>...</td>\n    </tr>\n    <tr>\n      <th>39769</th>\n      <td>US</td>\n      <td>1</td>\n      <td>2</td>\n      <td>2</td>\n      <td>1</td>\n      <td>16</td>\n      <td>1</td>\n      <td>1</td>\n      <td>1</td>\n      <td>70</td>\n      <td>...</td>\n      <td>3</td>\n      <td>5</td>\n      <td>6</td>\n      <td>1</td>\n      <td>15</td>\n      <td>2</td>\n      <td>21</td>\n      <td>4</td>\n      <td>30</td>\n      <td>3</td>\n    </tr>\n    <tr>\n      <th>39770</th>\n      <td>GB</td>\n      <td>2</td>\n      <td>2</td>\n      <td>1</td>\n      <td>1</td>\n      <td>16</td>\n      <td>1</td>\n      <td>2</td>\n      <td>4</td>\n      <td>60</td>\n      <td>...</td>\n      <td>3</td>\n      <td>3</td>\n      <td>6</td>\n      <td>2</td>\n      <td>36</td>\n      <td>4</td>\n      <td>12</td>\n      <td>2</td>\n      <td>15</td>\n      <td>1</td>\n    </tr>\n    <tr>\n      <th>39772</th>\n      <td>US</td>\n      <td>3</td>\n      <td>2</td>\n      <td>2</td>\n      <td>1</td>\n      <td>48</td>\n      <td>1</td>\n      <td>7</td>\n      <td>1</td>\n      <td>30</td>\n      <td>...</td>\n      <td>3</td>\n      <td>5</td>\n      <td>6</td>\n      <td>4</td>\n      <td>4</td>\n      <td>0</td>\n      <td>1</td>\n      <td>0</td>\n      <td>5</td>\n      <td>0</td>\n    </tr>\n    <tr>\n      <th>39773</th>\n      <td>US</td>\n      <td>3</td>\n      <td>2</td>\n      <td>2</td>\n      <td>1</td>\n      <td>20</td>\n      <td>1</td>\n      <td>6</td>\n      <td>1</td>\n      <td>60</td>\n      <td>...</td>\n      <td>1</td>\n      <td>3</td>\n      <td>3</td>\n      <td>4</td>\n      <td>16</td>\n      <td>2</td>\n      <td>13</td>\n      <td>2</td>\n      <td>33</td>\n      <td>4</td>\n    </tr>\n    <tr>\n      <th>39774</th>\n      <td>MY</td>\n      <td>3</td>\n      <td>3</td>\n      <td>2</td>\n      <td>2</td>\n      <td>26</td>\n      <td>1</td>\n      <td>10</td>\n      <td>1</td>\n      <td>10</td>\n      <td>...</td>\n      <td>3</td>\n      <td>1</td>\n      <td>6</td>\n      <td>6</td>\n      <td>27</td>\n      <td>4</td>\n      <td>10</td>\n      <td>2</td>\n      <td>16</td>\n      <td>1</td>\n    </tr>\n  </tbody>\n</table>\n<p>27434 rows × 30 columns</p>\n</div>"
     },
     "execution_count": 12,
     "metadata": {},
     "output_type": "execute_result"
    }
   ],
   "source": [
    "df"
   ],
   "metadata": {
    "collapsed": false,
    "pycharm": {
     "name": "#%%\n"
    }
   }
  }
 ],
 "metadata": {
  "kernelspec": {
   "display_name": "Python 3",
   "language": "python",
   "name": "python3"
  },
  "language_info": {
   "codemirror_mode": {
    "name": "ipython",
    "version": 2
   },
   "file_extension": ".py",
   "mimetype": "text/x-python",
   "name": "python",
   "nbconvert_exporter": "python",
   "pygments_lexer": "ipython2",
   "version": "2.7.6"
  }
 },
 "nbformat": 4,
 "nbformat_minor": 0
}