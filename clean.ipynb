{
 "cells": [
  {
   "cell_type": "markdown",
   "source": [
    "# CSCI 3360: Course Project\n",
    "This file is used to clean up the data and create a new modified file to work with.\n",
    "\n",
    "**Project Members:** JP Park, Yiren Hou, Martha Sikora, Pragya Bhayana\n",
    "**Dataset:** [Predicting Depression, Anxiety, and Stress](https://www.kaggle.com/yamqwe/depression-anxiety-stress-scales) from [Kaggle](https://www.kaggle.com) by [Yam Peleg](https://www.kaggle.com/yamqwe)"
   ],
   "metadata": {
    "collapsed": false
   }
  },
  {
   "cell_type": "code",
   "execution_count": 273,
   "outputs": [],
   "source": [
    "import pandas as pd\n",
    "import numpy as np"
   ],
   "metadata": {
    "collapsed": false,
    "pycharm": {
     "name": "#%%\n"
    }
   }
  },
  {
   "cell_type": "code",
   "execution_count": 274,
   "metadata": {
    "collapsed": true
   },
   "outputs": [],
   "source": [
    "df = pd.read_table(\"data/data.csv\")"
   ]
  },
  {
   "cell_type": "markdown",
   "source": [
    "# Validity Check"
   ],
   "metadata": {
    "collapsed": false
   }
  },
  {
   "cell_type": "code",
   "execution_count": 275,
   "outputs": [],
   "source": [
    "# VCL\n",
    "df = df[df[['VCL6', 'VCL9', 'VCL12']].sum(axis=1) == 0]\n",
    "df = df[df[['VCL1', 'VCL4', 'VCL10', 'VCL15', 'VCL16']].sum(axis=1) > 2]"
   ],
   "metadata": {
    "collapsed": false,
    "pycharm": {
     "name": "#%%\n"
    }
   }
  },
  {
   "cell_type": "code",
   "execution_count": 276,
   "outputs": [],
   "source": [
    "# testelapse + surveyelapse\n",
    "elapse = df['testelapse'] + df['surveyelapse']\n",
    "min_qr = elapse.quantile(0.01)\n",
    "max_qr = elapse.quantile(0.99)\n",
    "df = df[elapse.between(min_qr, max_qr)]"
   ],
   "metadata": {
    "collapsed": false,
    "pycharm": {
     "name": "#%%\n"
    }
   }
  },
  {
   "cell_type": "code",
   "execution_count": 277,
   "outputs": [],
   "source": [
    "# age\n",
    "df = df[df['age'].between(13, 80)]\n",
    "\n",
    "# family size\n",
    "df = df[df['familysize'] < 15]\n",
    "\n",
    "# eliminate minors that voted or are/have been married\n",
    "minor = df['age'] < 18\n",
    "voted = df['voted'] == 1\n",
    "married = df['married'] > 1\n",
    "df = df[~(minor & (voted | married))]"
   ],
   "metadata": {
    "collapsed": false,
    "pycharm": {
     "name": "#%%\n"
    }
   }
  },
  {
   "cell_type": "markdown",
   "source": [
    "# Calculating BIG-FIVE Personality"
   ],
   "metadata": {
    "collapsed": false
   }
  },
  {
   "cell_type": "code",
   "execution_count": 278,
   "outputs": [],
   "source": [
    "# Extraversion\n",
    "df['EXT1'] = df['TIPI1']\n",
    "df['EXT2'] = 8 - df['TIPI6']\n",
    "\n",
    "# Agreeableness\n",
    "df['AGR1'] = 8 - df['TIPI2']\n",
    "df['AGR2'] = df['TIPI7']\n",
    "\n",
    "# Conscientiousness\n",
    "df['CON1'] = df['TIPI3']\n",
    "df['CON2'] = 8 - df['TIPI8']\n",
    "\n",
    "# Emotional Stability\n",
    "df['EST1'] = 8 - df['TIPI4']\n",
    "df['EST2'] = df['TIPI9']\n",
    "\n",
    "# Openness\n",
    "df['OPE1'] = df['TIPI5']\n",
    "df['OPE2'] = 8 - df['TIPI10']"
   ],
   "metadata": {
    "collapsed": false,
    "pycharm": {
     "name": "#%%\n"
    }
   }
  },
  {
   "cell_type": "markdown",
   "source": [
    "# Calculating DASS score and level"
   ],
   "metadata": {
    "collapsed": false
   }
  },
  {
   "cell_type": "code",
   "execution_count": 279,
   "outputs": [],
   "source": [
    "# Calculate and create columns for depression, anxiety, and stress scores\n",
    "# and levels using the official DASS scale\n",
    "for cat, cols, bins in \\\n",
    "        ('depression', '3|5|10|13|16|17|21|24|26|31|34|37|38|42', [0, 9, 13, 20, 27, np.inf]), \\\n",
    "        ('anxiety', '2|4|7|9|15|19|20|23|25|28|30|36|40|41', [0, 7, 9, 14, 19, np.inf]), \\\n",
    "        ('stress', '1|6|8|11|12|14|18|22|27|29|32|33|35|39', [0, 14, 18, 25, 33, np.inf]):\n",
    "    df[f'{cat}_score'] = df.filter(regex=f\"Q({cols})A\").sub(1, fill_value=0).sum(axis=1)\n",
    "    df[f'{cat}_level'] = pd.cut(df[f'{cat}_score'], right=False, bins=bins, labels=range(5))"
   ],
   "metadata": {
    "collapsed": false,
    "pycharm": {
     "name": "#%%\n"
    }
   }
  },
  {
   "cell_type": "markdown",
   "source": [
    "# Drop unnecessary columns"
   ],
   "metadata": {
    "collapsed": false
   }
  },
  {
   "cell_type": "code",
   "execution_count": 280,
   "outputs": [],
   "source": [
    "drop = lambda regex: df.drop(df.filter(regex=regex).columns, axis=1, inplace=True)\n",
    "\n",
    "# vocabulary check list to check validity\n",
    "drop('VCL\\\\d+')\n",
    "\n",
    "# Q#A - the answer given to the question\n",
    "# Q#E - time spent on answering question (in milliseconds)\n",
    "# Q#I - the question's position in the survey\n",
    "drop('Q\\\\d+(A|E|I)')\n",
    "\n",
    "# introelapse - time spent on the introduction/landing page (in seconds)\n",
    "# testelapse - time spent on all the DASS questions\n",
    "# surveylapse - time spent answering the rest of the demographic and survey questions\n",
    "drop('.+lapse')\n",
    "\n",
    "# TIPI - Ten Item Personality Inventory\n",
    "drop('TIPI\\\\d+')"
   ],
   "metadata": {
    "collapsed": false,
    "pycharm": {
     "name": "#%%\n"
    }
   }
  },
  {
   "cell_type": "markdown",
   "source": [
    "# Save to a file"
   ],
   "metadata": {
    "collapsed": false
   }
  },
  {
   "cell_type": "code",
   "execution_count": 281,
   "outputs": [],
   "source": [
    "df.to_csv(\"data/cleaned.csv\", index=False)"
   ],
   "metadata": {
    "collapsed": false,
    "pycharm": {
     "name": "#%%\n"
    }
   }
  },
  {
   "cell_type": "code",
   "execution_count": 282,
   "outputs": [
    {
     "data": {
      "text/plain": "38134    13\n27812    13\n28596    13\n13545    13\n39230    13\n         ..\n10179    79\n12981    80\n4221     80\n2217     80\n10739    80\nName: age, Length: 29382, dtype: int64"
     },
     "execution_count": 282,
     "metadata": {},
     "output_type": "execute_result"
    }
   ],
   "source": [
    "df['age'].sort_values()"
   ],
   "metadata": {
    "collapsed": false,
    "pycharm": {
     "name": "#%%\n"
    }
   }
  },
  {
   "cell_type": "code",
   "execution_count": 283,
   "outputs": [
    {
     "data": {
      "text/plain": "      country  source  education  urban  gender  engnat  age  screensize  \\\n0          IN       2          2      3       2       2   16           1   \n1          US       2          2      3       2       1   16           2   \n3          US       2          1      3       2       1   13           2   \n4          MY       2          3      2       2       2   19           2   \n5          US       2          2      3       2       2   20           2   \n...       ...     ...        ...    ...     ...     ...  ...         ...   \n39769      US       2          1      2       2       1   16           2   \n39770      GB       2          2      2       1       1   16           2   \n39772      US       0          3      2       2       1   48           2   \n39773      US       2          3      2       2       1   20           2   \n39774      MY       1          3      3       2       2   26           1   \n\n       uniquenetworklocation  hand  ...  EST1  EST2  OPE1  OPE2  \\\n0                          1     1  ...     1     1     7     7   \n1                          1     2  ...     1     1     5     3   \n3                          1     2  ...     4     6     6     7   \n4                          2     3  ...     2     3     5     5   \n5                          1     1  ...     7     6     7     1   \n...                      ...   ...  ...   ...   ...   ...   ...   \n39769                      1     1  ...     3     5     6     1   \n39770                      1     1  ...     3     3     6     2   \n39772                      1     1  ...     3     5     6     4   \n39773                      1     1  ...     1     3     3     4   \n39774                      1     1  ...     3     1     6     6   \n\n       depression_score  depression_level anxiety_score  anxiety_level  \\\n0                    27                 4            34              4   \n1                    24                 3            17              3   \n3                    16                 2            17              3   \n4                    32                 4            40              4   \n5                    13                 2             6              0   \n...                 ...               ...           ...            ...   \n39769                15                 2            21              4   \n39770                36                 4            12              2   \n39772                 4                 0             1              0   \n39773                16                 2            13              2   \n39774                27                 4            10              2   \n\n       stress_score  stress_level  \n0                40             4  \n1                27             3  \n3                16             1  \n4                29             3  \n5                12             0  \n...             ...           ...  \n39769            30             3  \n39770            15             1  \n39772             5             0  \n39773            33             4  \n39774            16             1  \n\n[29382 rows x 33 columns]",
      "text/html": "<div>\n<style scoped>\n    .dataframe tbody tr th:only-of-type {\n        vertical-align: middle;\n    }\n\n    .dataframe tbody tr th {\n        vertical-align: top;\n    }\n\n    .dataframe thead th {\n        text-align: right;\n    }\n</style>\n<table border=\"1\" class=\"dataframe\">\n  <thead>\n    <tr style=\"text-align: right;\">\n      <th></th>\n      <th>country</th>\n      <th>source</th>\n      <th>education</th>\n      <th>urban</th>\n      <th>gender</th>\n      <th>engnat</th>\n      <th>age</th>\n      <th>screensize</th>\n      <th>uniquenetworklocation</th>\n      <th>hand</th>\n      <th>...</th>\n      <th>EST1</th>\n      <th>EST2</th>\n      <th>OPE1</th>\n      <th>OPE2</th>\n      <th>depression_score</th>\n      <th>depression_level</th>\n      <th>anxiety_score</th>\n      <th>anxiety_level</th>\n      <th>stress_score</th>\n      <th>stress_level</th>\n    </tr>\n  </thead>\n  <tbody>\n    <tr>\n      <th>0</th>\n      <td>IN</td>\n      <td>2</td>\n      <td>2</td>\n      <td>3</td>\n      <td>2</td>\n      <td>2</td>\n      <td>16</td>\n      <td>1</td>\n      <td>1</td>\n      <td>1</td>\n      <td>...</td>\n      <td>1</td>\n      <td>1</td>\n      <td>7</td>\n      <td>7</td>\n      <td>27</td>\n      <td>4</td>\n      <td>34</td>\n      <td>4</td>\n      <td>40</td>\n      <td>4</td>\n    </tr>\n    <tr>\n      <th>1</th>\n      <td>US</td>\n      <td>2</td>\n      <td>2</td>\n      <td>3</td>\n      <td>2</td>\n      <td>1</td>\n      <td>16</td>\n      <td>2</td>\n      <td>1</td>\n      <td>2</td>\n      <td>...</td>\n      <td>1</td>\n      <td>1</td>\n      <td>5</td>\n      <td>3</td>\n      <td>24</td>\n      <td>3</td>\n      <td>17</td>\n      <td>3</td>\n      <td>27</td>\n      <td>3</td>\n    </tr>\n    <tr>\n      <th>3</th>\n      <td>US</td>\n      <td>2</td>\n      <td>1</td>\n      <td>3</td>\n      <td>2</td>\n      <td>1</td>\n      <td>13</td>\n      <td>2</td>\n      <td>1</td>\n      <td>2</td>\n      <td>...</td>\n      <td>4</td>\n      <td>6</td>\n      <td>6</td>\n      <td>7</td>\n      <td>16</td>\n      <td>2</td>\n      <td>17</td>\n      <td>3</td>\n      <td>16</td>\n      <td>1</td>\n    </tr>\n    <tr>\n      <th>4</th>\n      <td>MY</td>\n      <td>2</td>\n      <td>3</td>\n      <td>2</td>\n      <td>2</td>\n      <td>2</td>\n      <td>19</td>\n      <td>2</td>\n      <td>2</td>\n      <td>3</td>\n      <td>...</td>\n      <td>2</td>\n      <td>3</td>\n      <td>5</td>\n      <td>5</td>\n      <td>32</td>\n      <td>4</td>\n      <td>40</td>\n      <td>4</td>\n      <td>29</td>\n      <td>3</td>\n    </tr>\n    <tr>\n      <th>5</th>\n      <td>US</td>\n      <td>2</td>\n      <td>2</td>\n      <td>3</td>\n      <td>2</td>\n      <td>2</td>\n      <td>20</td>\n      <td>2</td>\n      <td>1</td>\n      <td>1</td>\n      <td>...</td>\n      <td>7</td>\n      <td>6</td>\n      <td>7</td>\n      <td>1</td>\n      <td>13</td>\n      <td>2</td>\n      <td>6</td>\n      <td>0</td>\n      <td>12</td>\n      <td>0</td>\n    </tr>\n    <tr>\n      <th>...</th>\n      <td>...</td>\n      <td>...</td>\n      <td>...</td>\n      <td>...</td>\n      <td>...</td>\n      <td>...</td>\n      <td>...</td>\n      <td>...</td>\n      <td>...</td>\n      <td>...</td>\n      <td>...</td>\n      <td>...</td>\n      <td>...</td>\n      <td>...</td>\n      <td>...</td>\n      <td>...</td>\n      <td>...</td>\n      <td>...</td>\n      <td>...</td>\n      <td>...</td>\n      <td>...</td>\n    </tr>\n    <tr>\n      <th>39769</th>\n      <td>US</td>\n      <td>2</td>\n      <td>1</td>\n      <td>2</td>\n      <td>2</td>\n      <td>1</td>\n      <td>16</td>\n      <td>2</td>\n      <td>1</td>\n      <td>1</td>\n      <td>...</td>\n      <td>3</td>\n      <td>5</td>\n      <td>6</td>\n      <td>1</td>\n      <td>15</td>\n      <td>2</td>\n      <td>21</td>\n      <td>4</td>\n      <td>30</td>\n      <td>3</td>\n    </tr>\n    <tr>\n      <th>39770</th>\n      <td>GB</td>\n      <td>2</td>\n      <td>2</td>\n      <td>2</td>\n      <td>1</td>\n      <td>1</td>\n      <td>16</td>\n      <td>2</td>\n      <td>1</td>\n      <td>1</td>\n      <td>...</td>\n      <td>3</td>\n      <td>3</td>\n      <td>6</td>\n      <td>2</td>\n      <td>36</td>\n      <td>4</td>\n      <td>12</td>\n      <td>2</td>\n      <td>15</td>\n      <td>1</td>\n    </tr>\n    <tr>\n      <th>39772</th>\n      <td>US</td>\n      <td>0</td>\n      <td>3</td>\n      <td>2</td>\n      <td>2</td>\n      <td>1</td>\n      <td>48</td>\n      <td>2</td>\n      <td>1</td>\n      <td>1</td>\n      <td>...</td>\n      <td>3</td>\n      <td>5</td>\n      <td>6</td>\n      <td>4</td>\n      <td>4</td>\n      <td>0</td>\n      <td>1</td>\n      <td>0</td>\n      <td>5</td>\n      <td>0</td>\n    </tr>\n    <tr>\n      <th>39773</th>\n      <td>US</td>\n      <td>2</td>\n      <td>3</td>\n      <td>2</td>\n      <td>2</td>\n      <td>1</td>\n      <td>20</td>\n      <td>2</td>\n      <td>1</td>\n      <td>1</td>\n      <td>...</td>\n      <td>1</td>\n      <td>3</td>\n      <td>3</td>\n      <td>4</td>\n      <td>16</td>\n      <td>2</td>\n      <td>13</td>\n      <td>2</td>\n      <td>33</td>\n      <td>4</td>\n    </tr>\n    <tr>\n      <th>39774</th>\n      <td>MY</td>\n      <td>1</td>\n      <td>3</td>\n      <td>3</td>\n      <td>2</td>\n      <td>2</td>\n      <td>26</td>\n      <td>1</td>\n      <td>1</td>\n      <td>1</td>\n      <td>...</td>\n      <td>3</td>\n      <td>1</td>\n      <td>6</td>\n      <td>6</td>\n      <td>27</td>\n      <td>4</td>\n      <td>10</td>\n      <td>2</td>\n      <td>16</td>\n      <td>1</td>\n    </tr>\n  </tbody>\n</table>\n<p>29382 rows × 33 columns</p>\n</div>"
     },
     "execution_count": 283,
     "metadata": {},
     "output_type": "execute_result"
    }
   ],
   "source": [
    "df"
   ],
   "metadata": {
    "collapsed": false,
    "pycharm": {
     "name": "#%%\n"
    }
   }
  }
 ],
 "metadata": {
  "kernelspec": {
   "display_name": "Python 3",
   "language": "python",
   "name": "python3"
  },
  "language_info": {
   "codemirror_mode": {
    "name": "ipython",
    "version": 2
   },
   "file_extension": ".py",
   "mimetype": "text/x-python",
   "name": "python",
   "nbconvert_exporter": "python",
   "pygments_lexer": "ipython2",
   "version": "2.7.6"
  }
 },
 "nbformat": 4,
 "nbformat_minor": 0
}