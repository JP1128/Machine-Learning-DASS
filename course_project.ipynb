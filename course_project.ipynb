{
 "cells": [
  {
   "cell_type": "markdown",
   "source": [
    "# CSCI 3360: Course Project\n",
    "**Project Members:** JP Park, Yiren Hou, Martha Sikora, Pragya Bhayana\n",
    "**Dataset:** [Predicting Depression, Anxiety, and Stress](https://www.kaggle.com/yamqwe/depression-anxiety-stress-scales) from [Kaggle](https://www.kaggle.com) by [Yam Peleg](https://www.kaggle.com/yamqwe)"
   ],
   "metadata": {
    "collapsed": false
   }
  },
  {
   "cell_type": "markdown",
   "source": [],
   "metadata": {
    "collapsed": false
   }
  },
  {
   "cell_type": "code",
   "execution_count": 140,
   "metadata": {
    "collapsed": true
   },
   "outputs": [],
   "source": [
    "from collections import namedtuple\n",
    "\n",
    "import pandas as pd\n",
    "import numpy as np\n",
    "\n",
    "from typing import Dict, Tuple, List, NamedTuple"
   ]
  },
  {
   "cell_type": "code",
   "execution_count": 166,
   "outputs": [
    {
     "data": {
      "text/plain": "3526     NaN\n23744    NaN\nName: country, dtype: object"
     },
     "execution_count": 166,
     "metadata": {},
     "output_type": "execute_result"
    }
   ],
   "source": [
    "df = pd.read_table(\"data/data.csv\")\n",
    "df.drop(df.filter(regex='Q\\d+(I|E)').columns, axis=1, inplace=True)  # drop Q#I and Q#E"
   ],
   "metadata": {
    "collapsed": false,
    "pycharm": {
     "name": "#%%\n"
    }
   }
  },
  {
   "cell_type": "code",
   "execution_count": 142,
   "outputs": [],
   "source": [
    "DASS: Dict[str, Tuple[str, List]] = dict()\n",
    "DASS['depression'] = '3|5|10|13|16|17|21|24|26|31|34|37|38|42', [0, 9, 13, 20, 27, np.inf]\n",
    "DASS['anxiety'] = '2|4|7|9|15|19|20|23|25|28|30|36|40|41', [0, 7, 9, 14, 19, np.inf]\n",
    "DASS['stress'] = '1|6|8|11|12|14|18|22|27|29|32|33|35|39', [0, 14, 18, 25, 33, np.inf]\n",
    "\n",
    "for cat, item in DASS.items():\n",
    "    cols, bins = item\n",
    "    df[f'{cat}_score'] = df.filter(regex=f\"Q({cols})A\").sub(1, fill_value=0).sum(axis=1)\n",
    "    df[f'{cat}_level'] = pd.cut(df[f'{cat}_score'], right=False, bins=bins, labels=range(5))"
   ],
   "metadata": {
    "collapsed": false,
    "pycharm": {
     "name": "#%%\n"
    }
   }
  },
  {
   "cell_type": "code",
   "execution_count": 143,
   "outputs": [
    {
     "data": {
      "text/plain": "       depression_score depression_level  anxiety_score anxiety_level  \\\n0                    27                4             34             4   \n1                    24                3             17             3   \n2                    39                4             12             2   \n3                    16                2             17             3   \n4                    32                4             40             4   \n...                 ...              ...            ...           ...   \n39770                36                4             12             2   \n39771                38                4             34             4   \n39772                 4                0              1             0   \n39773                16                2             13             2   \n39774                27                4             10             2   \n\n       stress_score stress_level  \n0                40            4  \n1                27            3  \n2                17            1  \n3                16            1  \n4                29            3  \n...             ...          ...  \n39770            15            1  \n39771            34            4  \n39772             5            0  \n39773            33            4  \n39774            16            1  \n\n[39775 rows x 6 columns]",
      "text/html": "<div>\n<style scoped>\n    .dataframe tbody tr th:only-of-type {\n        vertical-align: middle;\n    }\n\n    .dataframe tbody tr th {\n        vertical-align: top;\n    }\n\n    .dataframe thead th {\n        text-align: right;\n    }\n</style>\n<table border=\"1\" class=\"dataframe\">\n  <thead>\n    <tr style=\"text-align: right;\">\n      <th></th>\n      <th>depression_score</th>\n      <th>depression_level</th>\n      <th>anxiety_score</th>\n      <th>anxiety_level</th>\n      <th>stress_score</th>\n      <th>stress_level</th>\n    </tr>\n  </thead>\n  <tbody>\n    <tr>\n      <th>0</th>\n      <td>27</td>\n      <td>4</td>\n      <td>34</td>\n      <td>4</td>\n      <td>40</td>\n      <td>4</td>\n    </tr>\n    <tr>\n      <th>1</th>\n      <td>24</td>\n      <td>3</td>\n      <td>17</td>\n      <td>3</td>\n      <td>27</td>\n      <td>3</td>\n    </tr>\n    <tr>\n      <th>2</th>\n      <td>39</td>\n      <td>4</td>\n      <td>12</td>\n      <td>2</td>\n      <td>17</td>\n      <td>1</td>\n    </tr>\n    <tr>\n      <th>3</th>\n      <td>16</td>\n      <td>2</td>\n      <td>17</td>\n      <td>3</td>\n      <td>16</td>\n      <td>1</td>\n    </tr>\n    <tr>\n      <th>4</th>\n      <td>32</td>\n      <td>4</td>\n      <td>40</td>\n      <td>4</td>\n      <td>29</td>\n      <td>3</td>\n    </tr>\n    <tr>\n      <th>...</th>\n      <td>...</td>\n      <td>...</td>\n      <td>...</td>\n      <td>...</td>\n      <td>...</td>\n      <td>...</td>\n    </tr>\n    <tr>\n      <th>39770</th>\n      <td>36</td>\n      <td>4</td>\n      <td>12</td>\n      <td>2</td>\n      <td>15</td>\n      <td>1</td>\n    </tr>\n    <tr>\n      <th>39771</th>\n      <td>38</td>\n      <td>4</td>\n      <td>34</td>\n      <td>4</td>\n      <td>34</td>\n      <td>4</td>\n    </tr>\n    <tr>\n      <th>39772</th>\n      <td>4</td>\n      <td>0</td>\n      <td>1</td>\n      <td>0</td>\n      <td>5</td>\n      <td>0</td>\n    </tr>\n    <tr>\n      <th>39773</th>\n      <td>16</td>\n      <td>2</td>\n      <td>13</td>\n      <td>2</td>\n      <td>33</td>\n      <td>4</td>\n    </tr>\n    <tr>\n      <th>39774</th>\n      <td>27</td>\n      <td>4</td>\n      <td>10</td>\n      <td>2</td>\n      <td>16</td>\n      <td>1</td>\n    </tr>\n  </tbody>\n</table>\n<p>39775 rows × 6 columns</p>\n</div>"
     },
     "execution_count": 143,
     "metadata": {},
     "output_type": "execute_result"
    }
   ],
   "source": [
    "df.filter(regex='.*_(score|level)')"
   ],
   "metadata": {
    "collapsed": false,
    "pycharm": {
     "name": "#%%\n"
    }
   }
  },
  {
   "cell_type": "code",
   "execution_count": null,
   "outputs": [],
   "source": [
    "df['country'][df['country'].isna() == True]"
   ],
   "metadata": {
    "collapsed": false,
    "pycharm": {
     "name": "#%%\n"
    }
   }
  }
 ],
 "metadata": {
  "kernelspec": {
   "display_name": "Python 3",
   "language": "python",
   "name": "python3"
  },
  "language_info": {
   "codemirror_mode": {
    "name": "ipython",
    "version": 2
   },
   "file_extension": ".py",
   "mimetype": "text/x-python",
   "name": "python",
   "nbconvert_exporter": "python",
   "pygments_lexer": "ipython2",
   "version": "2.7.6"
  }
 },
 "nbformat": 4,
 "nbformat_minor": 0
}